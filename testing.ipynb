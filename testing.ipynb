{
 "cells": [
  {
   "cell_type": "code",
   "execution_count": 1,
   "metadata": {},
   "outputs": [],
   "source": [
    "# importing required libraries\n",
    "from PIL import Image\n",
    "import numpy as np\n",
    "import pandas as pd"
   ]
  },
  {
   "cell_type": "code",
   "execution_count": 2,
   "metadata": {},
   "outputs": [],
   "source": [
    "# defining the funciton to create an dataframe form each fit images given\n",
    "def function(image):\n",
    "    im = Image.open(image)\n",
    "    imarray = np.array(im)\n",
    "    df = pd.DataFrame(imarray)\n",
    "    return df"
   ]
  },
  {
   "cell_type": "code",
   "execution_count": 3,
   "metadata": {},
   "outputs": [
    {
     "name": "stdout",
     "output_type": "stream",
     "text": [
      "<class 'pandas.core.frame.DataFrame'>\n",
      "RangeIndex: 1314 entries, 0 to 1313\n",
      "Columns: 1366 entries, 0 to 1365\n",
      "dtypes: float32(1366)\n",
      "memory usage: 6.8 MB\n"
     ]
    }
   ],
   "source": [
    "# dataframe from first tif file\n",
    "df_0 = function(\"0.tif\")\n",
    "df_0.info()"
   ]
  },
  {
   "cell_type": "code",
   "execution_count": 4,
   "metadata": {},
   "outputs": [
    {
     "name": "stdout",
     "output_type": "stream",
     "text": [
      "<class 'pandas.core.frame.DataFrame'>\n",
      "RangeIndex: 1314 entries, 0 to 1313\n",
      "Columns: 1366 entries, 0 to 1365\n",
      "dtypes: float32(1366)\n",
      "memory usage: 6.8 MB\n"
     ]
    }
   ],
   "source": [
    "df_20 = function(\"20.tif\")\n",
    "df_20.info()"
   ]
  },
  {
   "cell_type": "code",
   "execution_count": 5,
   "metadata": {},
   "outputs": [
    {
     "name": "stdout",
     "output_type": "stream",
     "text": [
      "<class 'pandas.core.frame.DataFrame'>\n",
      "RangeIndex: 1314 entries, 0 to 1313\n",
      "Columns: 1366 entries, 0 to 1365\n",
      "dtypes: float32(1366)\n",
      "memory usage: 6.8 MB\n"
     ]
    }
   ],
   "source": [
    "df_40 = function(\"40.tif\")\n",
    "df_40.info()"
   ]
  },
  {
   "cell_type": "code",
   "execution_count": 6,
   "metadata": {},
   "outputs": [
    {
     "name": "stdout",
     "output_type": "stream",
     "text": [
      "<class 'pandas.core.frame.DataFrame'>\n",
      "RangeIndex: 1314 entries, 0 to 1313\n",
      "Columns: 1366 entries, 0 to 1365\n",
      "dtypes: float32(1366)\n",
      "memory usage: 6.8 MB\n"
     ]
    }
   ],
   "source": [
    "df_60 = function(\"60.tif\")\n",
    "df_60.info()"
   ]
  },
  {
   "cell_type": "code",
   "execution_count": 7,
   "metadata": {},
   "outputs": [
    {
     "name": "stdout",
     "output_type": "stream",
     "text": [
      "<class 'pandas.core.frame.DataFrame'>\n",
      "RangeIndex: 1314 entries, 0 to 1313\n",
      "Columns: 1366 entries, 0 to 1365\n",
      "dtypes: float32(1366)\n",
      "memory usage: 6.8 MB\n"
     ]
    }
   ],
   "source": [
    "df_80 = function(\"80.tif\")\n",
    "df_80.info()"
   ]
  },
  {
   "cell_type": "code",
   "execution_count": 8,
   "metadata": {},
   "outputs": [
    {
     "name": "stdout",
     "output_type": "stream",
     "text": [
      "<class 'pandas.core.frame.DataFrame'>\n",
      "RangeIndex: 1314 entries, 0 to 1313\n",
      "Columns: 1366 entries, 0 to 1365\n",
      "dtypes: float32(1366)\n",
      "memory usage: 6.8 MB\n"
     ]
    }
   ],
   "source": [
    "df_100 = function(\"100.tif\")\n",
    "df_100.info()"
   ]
  },
  {
   "cell_type": "code",
   "execution_count": 9,
   "metadata": {},
   "outputs": [
    {
     "name": "stdout",
     "output_type": "stream",
     "text": [
      "<class 'pandas.core.frame.DataFrame'>\n",
      "RangeIndex: 1314 entries, 0 to 1313\n",
      "Columns: 1366 entries, 0 to 1365\n",
      "dtypes: float32(1366)\n",
      "memory usage: 6.8 MB\n"
     ]
    }
   ],
   "source": [
    "df_120 = function(\"120.tif\")\n",
    "df_120.info()"
   ]
  },
  {
   "cell_type": "code",
   "execution_count": 10,
   "metadata": {},
   "outputs": [
    {
     "name": "stdout",
     "output_type": "stream",
     "text": [
      "<class 'pandas.core.frame.DataFrame'>\n",
      "RangeIndex: 1314 entries, 0 to 1313\n",
      "Columns: 1366 entries, 0 to 1365\n",
      "dtypes: float32(1366)\n",
      "memory usage: 6.8 MB\n"
     ]
    }
   ],
   "source": [
    "df_140 = function(\"140.tif\")\n",
    "df_140.info()"
   ]
  },
  {
   "cell_type": "code",
   "execution_count": 11,
   "metadata": {
    "scrolled": true
   },
   "outputs": [
    {
     "name": "stdout",
     "output_type": "stream",
     "text": [
      "<class 'pandas.core.frame.DataFrame'>\n",
      "RangeIndex: 1314 entries, 0 to 1313\n",
      "Columns: 1366 entries, 0 to 1365\n",
      "dtypes: float32(1366)\n",
      "memory usage: 6.8 MB\n"
     ]
    }
   ],
   "source": [
    "df_160 = function(\"160.tif\")\n",
    "df_160.info()"
   ]
  },
  {
   "cell_type": "code",
   "execution_count": 12,
   "metadata": {},
   "outputs": [
    {
     "name": "stdout",
     "output_type": "stream",
     "text": [
      "<class 'pandas.core.frame.DataFrame'>\n",
      "RangeIndex: 1314 entries, 0 to 1313\n",
      "Columns: 1366 entries, 0 to 1365\n",
      "dtypes: float32(1366)\n",
      "memory usage: 6.8 MB\n"
     ]
    }
   ],
   "source": [
    "df_180 = function(\"180.tif\")\n",
    "df_180.info()"
   ]
  },
  {
   "cell_type": "code",
   "execution_count": 13,
   "metadata": {},
   "outputs": [],
   "source": [
    "# to define a function to extract all ndvi values of each pixel from each tif file and store them in list\n",
    "def func(list,df):\n",
    "    for i in range(1314):\n",
    "        for j in range(1366):\n",
    "            list.append(df.iloc[i,j])\n",
    "    return list"
   ]
  },
  {
   "cell_type": "code",
   "execution_count": null,
   "metadata": {},
   "outputs": [],
   "source": [
    "# lists corresponding to each tif image contains all ndvi values from each pixel\n",
    "pixel_0 = func([],df_0)\n",
    "pixel_20 = func([],df_20)\n",
    "pixel_40 = func([],df_40)\n",
    "pixel_60 = func([],df_60)\n",
    "pixel_80 = func([],df_80)\n",
    "pixel_100 = func([],df_100)\n",
    "pixel_120 = func([],df_120)\n",
    "pixel_140 = func([],df_140)\n",
    "pixel_160 = func([],df_160)\n",
    "pixel_180 = func([],df_180)"
   ]
  },
  {
   "cell_type": "code",
   "execution_count": null,
   "metadata": {},
   "outputs": [],
   "source": [
    "# creating the test dataset from all lists created above. It contains ndvi values pixelwise(rows) at each day(columns)\n",
    "final = pd.DataFrame({\"0\":pixel_0, \"20\":pixel_20, \"40\":pixel_40, \"60\":pixel_60, \"80\":pixel_80, \n",
    "                      \"100\":pixel_100, \"120\":pixel_120, \"140\":pixel_140, \"160\":pixel_160, \"180\":pixel_180})"
   ]
  },
  {
   "cell_type": "code",
   "execution_count": null,
   "metadata": {},
   "outputs": [],
   "source": [
    "final.info()"
   ]
  },
  {
   "cell_type": "code",
   "execution_count": null,
   "metadata": {},
   "outputs": [],
   "source": [
    "# final test data created to check our model\n",
    "final"
   ]
  },
  {
   "cell_type": "code",
   "execution_count": null,
   "metadata": {},
   "outputs": [],
   "source": [
    "# droping the null values.\n",
    "new = final.dropna()"
   ]
  },
  {
   "cell_type": "code",
   "execution_count": null,
   "metadata": {
    "scrolled": false
   },
   "outputs": [],
   "source": [
    "new"
   ]
  },
  {
   "cell_type": "code",
   "execution_count": null,
   "metadata": {},
   "outputs": [],
   "source": [
    "# try to store the index value in seperate column named index to save that pixel value()\n",
    "new = new.reset_index()"
   ]
  },
  {
   "cell_type": "code",
   "execution_count": null,
   "metadata": {},
   "outputs": [],
   "source": [
    "new"
   ]
  },
  {
   "cell_type": "code",
   "execution_count": null,
   "metadata": {},
   "outputs": [],
   "source": [
    "x = new.drop(\"index\",axis=1)"
   ]
  },
  {
   "cell_type": "code",
   "execution_count": null,
   "metadata": {},
   "outputs": [],
   "source": [
    "# loading our model using pickle\n",
    "import pickle\n",
    "loaded_model = pickle.load(open(\"model.pkl\", 'rb'))"
   ]
  },
  {
   "cell_type": "code",
   "execution_count": null,
   "metadata": {},
   "outputs": [],
   "source": [
    "# predicting the lables at each pixcel\n",
    "y = loaded_model.predict(x)"
   ]
  },
  {
   "cell_type": "code",
   "execution_count": null,
   "metadata": {
    "scrolled": true
   },
   "outputs": [],
   "source": [
    "y"
   ]
  },
  {
   "cell_type": "markdown",
   "metadata": {},
   "source": [
    "ploting the results"
   ]
  },
  {
   "cell_type": "code",
   "execution_count": null,
   "metadata": {},
   "outputs": [],
   "source": [
    "# coverting predicted values into dataframe\n",
    "y_df = pd.DataFrame(y)\n",
    "y_df.head()"
   ]
  },
  {
   "cell_type": "code",
   "execution_count": null,
   "metadata": {},
   "outputs": [],
   "source": [
    "# adding one column named label to the test dataframe\n",
    "new[\"label\"] = y_df"
   ]
  },
  {
   "cell_type": "code",
   "execution_count": null,
   "metadata": {},
   "outputs": [],
   "source": [
    "new"
   ]
  },
  {
   "cell_type": "code",
   "execution_count": null,
   "metadata": {},
   "outputs": [],
   "source": [
    "# keeping the index value in seperate column for final dataframe inorder to \n",
    "#compare with above dataframe which contains our predicted labels\n",
    "final[\"index\"] = final.index"
   ]
  },
  {
   "cell_type": "code",
   "execution_count": null,
   "metadata": {
    "scrolled": true
   },
   "outputs": [],
   "source": [
    "final.info()"
   ]
  },
  {
   "cell_type": "code",
   "execution_count": null,
   "metadata": {},
   "outputs": [],
   "source": [
    "new.info()"
   ]
  },
  {
   "cell_type": "code",
   "execution_count": null,
   "metadata": {},
   "outputs": [],
   "source": [
    "# merged both dataframes based on index values \n",
    "merged = pd.merge(final, new[[\"index\",\"label\"]],how = \"left\", on = \"index\")"
   ]
  },
  {
   "cell_type": "code",
   "execution_count": null,
   "metadata": {},
   "outputs": [],
   "source": [
    "merged.info()"
   ]
  },
  {
   "cell_type": "code",
   "execution_count": null,
   "metadata": {},
   "outputs": [],
   "source": [
    "#predicted classes in label column\n",
    "merged[\"label\"].value_counts()"
   ]
  },
  {
   "cell_type": "code",
   "execution_count": null,
   "metadata": {
    "scrolled": true
   },
   "outputs": [],
   "source": [
    "#replacing the classes with numbers\n",
    "merged[\"label\"].replace({\"Water\" : 1, \"Forest\":2, \"Urban\":3, \"Barren\":4}, inplace = True)"
   ]
  },
  {
   "cell_type": "code",
   "execution_count": null,
   "metadata": {},
   "outputs": [],
   "source": [
    "merged[\"label\"].value_counts()"
   ]
  },
  {
   "cell_type": "code",
   "execution_count": null,
   "metadata": {},
   "outputs": [],
   "source": [
    "# now i am creating an array which shows the predicted labels at each pixel\n",
    "new_list = []\n",
    "x=0\n",
    "for i in range(1314):\n",
    "    list =[]\n",
    "    for j in range(1366):\n",
    "        list.append(merged[\"label\"][x])\n",
    "        x = x+1\n",
    "    new_list.append(list)"
   ]
  },
  {
   "cell_type": "code",
   "execution_count": null,
   "metadata": {},
   "outputs": [],
   "source": [
    "new_df = pd.DataFrame(new_list)"
   ]
  },
  {
   "cell_type": "code",
   "execution_count": null,
   "metadata": {
    "scrolled": false
   },
   "outputs": [],
   "source": [
    "# this the dataframe contains predicted labels at every pixel\n",
    "new_df.info()"
   ]
  },
  {
   "cell_type": "code",
   "execution_count": null,
   "metadata": {
    "scrolled": true
   },
   "outputs": [],
   "source": [
    "new_df.head()"
   ]
  },
  {
   "cell_type": "code",
   "execution_count": null,
   "metadata": {},
   "outputs": [],
   "source": [
    "# importing the libraries which are required to show plots\n",
    "import matplotlib\n",
    "import matplotlib.pyplot as plt\n",
    "import rasterio as rio\n",
    "import earthpy.plot as ep"
   ]
  },
  {
   "cell_type": "code",
   "execution_count": null,
   "metadata": {},
   "outputs": [],
   "source": [
    "nbr_colors = [\"deepskyblue\", \"forestgreen\", \"red\", \"springgreen\"]\n",
    "fig, ax = plt.subplots(figsize=(12, 12))\n",
    "cmap = matplotlib.colors.ListedColormap(nbr_colors)\n",
    "im = ax.imshow(new_df,cmap = cmap)\n",
    "\n",
    "ep.draw_legend(im_ax=im, classes = [1,2,3,4], titles=[\"Water\",\"Forest\", \"Urban\", \"Barren\"])\n",
    "\n",
    "ax.set_axis_off()\n",
    "\n",
    "# Auto adjust subplot to fit figure size\n",
    "plt.tight_layout()\n",
    "fig.savefig(\"final.tif\")"
   ]
  },
  {
   "cell_type": "code",
   "execution_count": null,
   "metadata": {},
   "outputs": [],
   "source": [
    "#original tif image\n",
    "with rio.open(\"0.tif\") as src:\n",
    "    naip_data = src.read()\n",
    "\n",
    "# View shape of the data\n",
    "naip_data.shape\n",
    "ep.plot_bands(naip_data, \n",
    "              cmap='PiYG',\n",
    "              scale=False,\n",
    "              vmin=-1, vmax=1,\n",
    "              )\n",
    "plt.show()"
   ]
  },
  {
   "cell_type": "code",
   "execution_count": null,
   "metadata": {},
   "outputs": [],
   "source": []
  }
 ],
 "metadata": {
  "kernelspec": {
   "display_name": "Python 3",
   "language": "python",
   "name": "python3"
  },
  "language_info": {
   "codemirror_mode": {
    "name": "ipython",
    "version": 3
   },
   "file_extension": ".py",
   "mimetype": "text/x-python",
   "name": "python",
   "nbconvert_exporter": "python",
   "pygments_lexer": "ipython3",
   "version": "3.8.6"
  }
 },
 "nbformat": 4,
 "nbformat_minor": 4
}
