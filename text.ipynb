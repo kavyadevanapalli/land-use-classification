{
 "cells": [
  {
   "cell_type": "markdown",
   "metadata": {},
   "source": [
    "I have used decision tree classifier to classify the land. I have taken the given training data, done the preprocessing(removed all null values). I thought it is better to remove the null values. if we replace them with any value it may lead to classify wrongly as the ndvi values for each class  I have divided the data into training and test sets. I have trained the model with training data then tested the results for test data. I have got good accuracy for the test data.  \n",
    "\n",
    "I have created the test data from the given tif images. I have used my model to predict the label for each pixel. Using earthpy, i have ploted the results and saved figure in tif format.\n",
    "\n",
    "I have faced challenge in creating the test datset from the given tif images and also faced challeges in ploting the results to see the classified label at each pixel.\n",
    "\n",
    "There are 2 seperate files here,\n",
    "model.ipynp -- for model building using given training data\n",
    "test.ipynp -- for model testing with given tif images"
   ]
  },
  {
   "cell_type": "code",
   "execution_count": null,
   "metadata": {},
   "outputs": [],
   "source": []
  }
 ],
 "metadata": {
  "kernelspec": {
   "display_name": "Python 3",
   "language": "python",
   "name": "python3"
  },
  "language_info": {
   "codemirror_mode": {
    "name": "ipython",
    "version": 3
   },
   "file_extension": ".py",
   "mimetype": "text/x-python",
   "name": "python",
   "nbconvert_exporter": "python",
   "pygments_lexer": "ipython3",
   "version": "3.8.6"
  }
 },
 "nbformat": 4,
 "nbformat_minor": 4
}
