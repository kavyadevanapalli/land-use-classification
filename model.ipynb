{
 "cells": [
  {
   "cell_type": "code",
   "execution_count": 1,
   "metadata": {},
   "outputs": [],
   "source": [
    "import numpy as np\n",
    "import pandas as pd"
   ]
  },
  {
   "cell_type": "code",
   "execution_count": 2,
   "metadata": {},
   "outputs": [],
   "source": [
    "#loading training data\n",
    "df = pd.read_csv(\"Training_Data.csv\")"
   ]
  },
  {
   "cell_type": "code",
   "execution_count": 3,
   "metadata": {},
   "outputs": [
    {
     "data": {
      "text/html": [
       "<div>\n",
       "<style scoped>\n",
       "    .dataframe tbody tr th:only-of-type {\n",
       "        vertical-align: middle;\n",
       "    }\n",
       "\n",
       "    .dataframe tbody tr th {\n",
       "        vertical-align: top;\n",
       "    }\n",
       "\n",
       "    .dataframe thead th {\n",
       "        text-align: right;\n",
       "    }\n",
       "</style>\n",
       "<table border=\"1\" class=\"dataframe\">\n",
       "  <thead>\n",
       "    <tr style=\"text-align: right;\">\n",
       "      <th></th>\n",
       "      <th>Unnamed: 0</th>\n",
       "      <th>FarmerCropId</th>\n",
       "      <th>pixel</th>\n",
       "      <th>0</th>\n",
       "      <th>20</th>\n",
       "      <th>40</th>\n",
       "      <th>60</th>\n",
       "      <th>80</th>\n",
       "      <th>100</th>\n",
       "      <th>120</th>\n",
       "      <th>140</th>\n",
       "      <th>160</th>\n",
       "      <th>180</th>\n",
       "      <th>Class</th>\n",
       "    </tr>\n",
       "  </thead>\n",
       "  <tbody>\n",
       "    <tr>\n",
       "      <th>0</th>\n",
       "      <td>0</td>\n",
       "      <td>Forest_11</td>\n",
       "      <td>P_1248</td>\n",
       "      <td>0.688329</td>\n",
       "      <td>0.329046</td>\n",
       "      <td>0.594767</td>\n",
       "      <td>0.541278</td>\n",
       "      <td>0.273226</td>\n",
       "      <td>0.395824</td>\n",
       "      <td>0.502067</td>\n",
       "      <td>0.431720</td>\n",
       "      <td>0.297808</td>\n",
       "      <td>0.274005</td>\n",
       "      <td>Forest</td>\n",
       "    </tr>\n",
       "    <tr>\n",
       "      <th>1</th>\n",
       "      <td>1</td>\n",
       "      <td>Forest_8</td>\n",
       "      <td>P_4942</td>\n",
       "      <td>0.762895</td>\n",
       "      <td>0.315333</td>\n",
       "      <td>0.641736</td>\n",
       "      <td>0.639904</td>\n",
       "      <td>0.572348</td>\n",
       "      <td>0.514314</td>\n",
       "      <td>0.639383</td>\n",
       "      <td>0.588162</td>\n",
       "      <td>0.453102</td>\n",
       "      <td>0.370456</td>\n",
       "      <td>Forest</td>\n",
       "    </tr>\n",
       "    <tr>\n",
       "      <th>2</th>\n",
       "      <td>2</td>\n",
       "      <td>Urban_21</td>\n",
       "      <td>P_2341</td>\n",
       "      <td>0.110929</td>\n",
       "      <td>0.077010</td>\n",
       "      <td>0.075400</td>\n",
       "      <td>0.056988</td>\n",
       "      <td>0.065011</td>\n",
       "      <td>0.076522</td>\n",
       "      <td>0.114804</td>\n",
       "      <td>0.076841</td>\n",
       "      <td>0.120840</td>\n",
       "      <td>0.070926</td>\n",
       "      <td>Urban</td>\n",
       "    </tr>\n",
       "    <tr>\n",
       "      <th>3</th>\n",
       "      <td>3</td>\n",
       "      <td>Forest_0</td>\n",
       "      <td>P_1902</td>\n",
       "      <td>0.693700</td>\n",
       "      <td>0.264101</td>\n",
       "      <td>0.501765</td>\n",
       "      <td>0.515265</td>\n",
       "      <td>0.371811</td>\n",
       "      <td>0.322581</td>\n",
       "      <td>0.487982</td>\n",
       "      <td>0.480932</td>\n",
       "      <td>0.436844</td>\n",
       "      <td>0.374766</td>\n",
       "      <td>Forest</td>\n",
       "    </tr>\n",
       "    <tr>\n",
       "      <th>4</th>\n",
       "      <td>4</td>\n",
       "      <td>Urban_14</td>\n",
       "      <td>P_261</td>\n",
       "      <td>0.112433</td>\n",
       "      <td>0.049106</td>\n",
       "      <td>0.026482</td>\n",
       "      <td>0.049207</td>\n",
       "      <td>0.049906</td>\n",
       "      <td>0.097688</td>\n",
       "      <td>0.134807</td>\n",
       "      <td>0.102053</td>\n",
       "      <td>0.141696</td>\n",
       "      <td>0.089413</td>\n",
       "      <td>Urban</td>\n",
       "    </tr>\n",
       "  </tbody>\n",
       "</table>\n",
       "</div>"
      ],
      "text/plain": [
       "   Unnamed: 0 FarmerCropId   pixel         0        20        40        60  \\\n",
       "0           0    Forest_11  P_1248  0.688329  0.329046  0.594767  0.541278   \n",
       "1           1     Forest_8  P_4942  0.762895  0.315333  0.641736  0.639904   \n",
       "2           2     Urban_21  P_2341  0.110929  0.077010  0.075400  0.056988   \n",
       "3           3     Forest_0  P_1902  0.693700  0.264101  0.501765  0.515265   \n",
       "4           4     Urban_14   P_261  0.112433  0.049106  0.026482  0.049207   \n",
       "\n",
       "         80       100       120       140       160       180   Class  \n",
       "0  0.273226  0.395824  0.502067  0.431720  0.297808  0.274005  Forest  \n",
       "1  0.572348  0.514314  0.639383  0.588162  0.453102  0.370456  Forest  \n",
       "2  0.065011  0.076522  0.114804  0.076841  0.120840  0.070926   Urban  \n",
       "3  0.371811  0.322581  0.487982  0.480932  0.436844  0.374766  Forest  \n",
       "4  0.049906  0.097688  0.134807  0.102053  0.141696  0.089413   Urban  "
      ]
     },
     "execution_count": 3,
     "metadata": {},
     "output_type": "execute_result"
    }
   ],
   "source": [
    "df.head()"
   ]
  },
  {
   "cell_type": "code",
   "execution_count": 4,
   "metadata": {},
   "outputs": [],
   "source": [
    "# droping unnamed column\n",
    "df.drop([\"Unnamed: 0\"], axis =1, inplace = True)"
   ]
  },
  {
   "cell_type": "code",
   "execution_count": 5,
   "metadata": {},
   "outputs": [
    {
     "name": "stdout",
     "output_type": "stream",
     "text": [
      "<class 'pandas.core.frame.DataFrame'>\n",
      "RangeIndex: 17833 entries, 0 to 17832\n",
      "Data columns (total 13 columns):\n",
      " #   Column        Non-Null Count  Dtype  \n",
      "---  ------        --------------  -----  \n",
      " 0   FarmerCropId  17833 non-null  object \n",
      " 1   pixel         17833 non-null  object \n",
      " 2   0             17510 non-null  float64\n",
      " 3   20            17510 non-null  float64\n",
      " 4   40            17510 non-null  float64\n",
      " 5   60            17494 non-null  float64\n",
      " 6   80            17478 non-null  float64\n",
      " 7   100           17510 non-null  float64\n",
      " 8   120           17494 non-null  float64\n",
      " 9   140           17510 non-null  float64\n",
      " 10  160           17510 non-null  float64\n",
      " 11  180           17501 non-null  float64\n",
      " 12  Class         17833 non-null  object \n",
      "dtypes: float64(10), object(3)\n",
      "memory usage: 1.8+ MB\n"
     ]
    }
   ],
   "source": [
    "df.info()"
   ]
  },
  {
   "cell_type": "code",
   "execution_count": 6,
   "metadata": {},
   "outputs": [],
   "source": [
    "# to find unique values in farmercropid column\n",
    "df.dropna(inplace = True)"
   ]
  },
  {
   "cell_type": "code",
   "execution_count": 7,
   "metadata": {},
   "outputs": [
    {
     "name": "stdout",
     "output_type": "stream",
     "text": [
      "<class 'pandas.core.frame.DataFrame'>\n",
      "Int64Index: 17130 entries, 0 to 17832\n",
      "Data columns (total 13 columns):\n",
      " #   Column        Non-Null Count  Dtype  \n",
      "---  ------        --------------  -----  \n",
      " 0   FarmerCropId  17130 non-null  object \n",
      " 1   pixel         17130 non-null  object \n",
      " 2   0             17130 non-null  float64\n",
      " 3   20            17130 non-null  float64\n",
      " 4   40            17130 non-null  float64\n",
      " 5   60            17130 non-null  float64\n",
      " 6   80            17130 non-null  float64\n",
      " 7   100           17130 non-null  float64\n",
      " 8   120           17130 non-null  float64\n",
      " 9   140           17130 non-null  float64\n",
      " 10  160           17130 non-null  float64\n",
      " 11  180           17130 non-null  float64\n",
      " 12  Class         17130 non-null  object \n",
      "dtypes: float64(10), object(3)\n",
      "memory usage: 1.8+ MB\n"
     ]
    }
   ],
   "source": [
    "df.info()"
   ]
  },
  {
   "cell_type": "code",
   "execution_count": 8,
   "metadata": {},
   "outputs": [],
   "source": [
    "# defining x and y for training\n",
    "x = df.drop([\"FarmerCropId\", \"pixel\", \"Class\"], axis = 1)\n",
    "y = df[\"Class\"]"
   ]
  },
  {
   "cell_type": "code",
   "execution_count": 9,
   "metadata": {},
   "outputs": [],
   "source": [
    "# diving the data into training and testing sets\n",
    "from sklearn.model_selection import train_test_split\n",
    "x_train, x_test,y_train, y_test = train_test_split(x,y,random_state = 20,test_size = 0.25)"
   ]
  },
  {
   "cell_type": "code",
   "execution_count": 10,
   "metadata": {
    "scrolled": true
   },
   "outputs": [
    {
     "data": {
      "text/plain": [
       "((12847, 10), (12847,))"
      ]
     },
     "execution_count": 10,
     "metadata": {},
     "output_type": "execute_result"
    }
   ],
   "source": [
    "# check the shape of training and test datasets\n",
    "x_train.shape, y_train.shape"
   ]
  },
  {
   "cell_type": "code",
   "execution_count": 11,
   "metadata": {
    "scrolled": true
   },
   "outputs": [
    {
     "data": {
      "text/plain": [
       "((4283, 10), (4283,))"
      ]
     },
     "execution_count": 11,
     "metadata": {},
     "output_type": "execute_result"
    }
   ],
   "source": [
    "x_test.shape, y_test.shape"
   ]
  },
  {
   "cell_type": "code",
   "execution_count": 12,
   "metadata": {},
   "outputs": [],
   "source": [
    "#training the data with decisiontreeclassifier\n",
    "from sklearn.tree import DecisionTreeClassifier"
   ]
  },
  {
   "cell_type": "code",
   "execution_count": 13,
   "metadata": {},
   "outputs": [
    {
     "data": {
      "text/plain": [
       "DecisionTreeClassifier()"
      ]
     },
     "execution_count": 13,
     "metadata": {},
     "output_type": "execute_result"
    }
   ],
   "source": [
    "tree = DecisionTreeClassifier()\n",
    "tree.fit(x_train,y_train)"
   ]
  },
  {
   "cell_type": "code",
   "execution_count": 14,
   "metadata": {},
   "outputs": [],
   "source": [
    "# predicting the y values using classifier\n",
    "y_train_pred = tree.predict(x_train)\n",
    "y_test_pred = tree.predict(x_test)"
   ]
  },
  {
   "cell_type": "code",
   "execution_count": 15,
   "metadata": {},
   "outputs": [
    {
     "name": "stdout",
     "output_type": "stream",
     "text": [
      "Classification report for training data\n",
      "              precision    recall  f1-score   support\n",
      "\n",
      "      Barren       1.00      1.00      1.00       116\n",
      "      Forest       1.00      1.00      1.00      6942\n",
      "       Urban       1.00      1.00      1.00      5415\n",
      "       Water       1.00      1.00      1.00       374\n",
      "\n",
      "    accuracy                           1.00     12847\n",
      "   macro avg       1.00      1.00      1.00     12847\n",
      "weighted avg       1.00      1.00      1.00     12847\n",
      "\n",
      "Classification report for test data\n",
      "              precision    recall  f1-score   support\n",
      "\n",
      "      Barren       0.69      0.83      0.75        35\n",
      "      Forest       1.00      1.00      1.00      2328\n",
      "       Urban       0.99      0.99      0.99      1779\n",
      "       Water       0.94      0.95      0.95       141\n",
      "\n",
      "    accuracy                           0.99      4283\n",
      "   macro avg       0.91      0.94      0.92      4283\n",
      "weighted avg       0.99      0.99      0.99      4283\n",
      "\n",
      "Confusion matrix for test data\n",
      "[[  29    0    6    0]\n",
      " [   0 2325    3    0]\n",
      " [  13    1 1757    8]\n",
      " [   0    0    7  134]]\n"
     ]
    }
   ],
   "source": [
    "# to check the model performance\n",
    "from sklearn.metrics import classification_report, confusion_matrix\n",
    "print(\"Classification report for training data\")\n",
    "print(classification_report(y_train, y_train_pred))\n",
    "print(\"Classification report for test data\")\n",
    "print(classification_report(y_test, y_test_pred))\n",
    "print(\"Confusion matrix for test data\")\n",
    "print(confusion_matrix(y_test,y_test_pred))"
   ]
  },
  {
   "cell_type": "code",
   "execution_count": 16,
   "metadata": {},
   "outputs": [],
   "source": [
    "import pickle"
   ]
  },
  {
   "cell_type": "code",
   "execution_count": 17,
   "metadata": {},
   "outputs": [],
   "source": [
    "# saving the model to pickle file\n",
    "filename = 'model.pkl'\n",
    "pickle.dump(tree, open(filename, 'wb'))"
   ]
  }
 ],
 "metadata": {
  "kernelspec": {
   "display_name": "Python 3",
   "language": "python",
   "name": "python3"
  },
  "language_info": {
   "codemirror_mode": {
    "name": "ipython",
    "version": 3
   },
   "file_extension": ".py",
   "mimetype": "text/x-python",
   "name": "python",
   "nbconvert_exporter": "python",
   "pygments_lexer": "ipython3",
   "version": "3.8.6"
  }
 },
 "nbformat": 4,
 "nbformat_minor": 4
}
